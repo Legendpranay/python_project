{
 "cells": [
  {
   "cell_type": "markdown",
   "id": "43a550cd",
   "metadata": {},
   "source": [
    "# What is the most optimal skills for Data Analyst?"
   ]
  },
  {
   "cell_type": "code",
   "execution_count": 193,
   "id": "526836bc",
   "metadata": {},
   "outputs": [],
   "source": [
    "import ast\n",
    "import pandas as pd \n",
    "from datasets import load_dataset\n",
    "import matplotlib.pyplot as plt\n",
    "import seaborn as sns\n",
    "\n",
    "dataset = load_dataset(\"lukebarousse/data_jobs\")\n",
    "df = dataset['train'].to_pandas()\n",
    "\n",
    "df['job_posted_date'] = pd.to_datetime(df['job_posted_date'])\n",
    "df['job_skills'] = df['job_skills'].apply(lambda x: ast.literal_eval (x) if pd.notna(x) else x)"
   ]
  },
  {
   "cell_type": "code",
   "execution_count": 194,
   "id": "9cc3926e",
   "metadata": {},
   "outputs": [],
   "source": [
    "df_DA_IND = df[(df['job_title'] == 'Data Analyst') & (df['job_country'] == 'India')]"
   ]
  },
  {
   "cell_type": "code",
   "execution_count": 195,
   "id": "96980928",
   "metadata": {},
   "outputs": [
    {
     "data": {
      "application/vnd.microsoft.datawrangler.viewer.v0+json": {
       "columns": [
        {
         "name": "index",
         "rawType": "int64",
         "type": "integer"
        },
        {
         "name": "salary_year_avg",
         "rawType": "float64",
         "type": "float"
        },
        {
         "name": "job_skills",
         "rawType": "object",
         "type": "string"
        }
       ],
       "ref": "9d990c5d-05a3-4ea7-9b8e-1626b68966d8",
       "rows": [
        [
         "56450",
         "57500.0",
         "tableau"
        ],
        [
         "56450",
         "57500.0",
         "power bi"
        ],
        [
         "60528",
         "105000.0",
         "r"
        ],
        [
         "60528",
         "105000.0",
         "python"
        ],
        [
         "60528",
         "105000.0",
         "spss"
        ]
       ],
       "shape": {
        "columns": 2,
        "rows": 5
       }
      },
      "text/html": [
       "<div>\n",
       "<style scoped>\n",
       "    .dataframe tbody tr th:only-of-type {\n",
       "        vertical-align: middle;\n",
       "    }\n",
       "\n",
       "    .dataframe tbody tr th {\n",
       "        vertical-align: top;\n",
       "    }\n",
       "\n",
       "    .dataframe thead th {\n",
       "        text-align: right;\n",
       "    }\n",
       "</style>\n",
       "<table border=\"1\" class=\"dataframe\">\n",
       "  <thead>\n",
       "    <tr style=\"text-align: right;\">\n",
       "      <th></th>\n",
       "      <th>salary_year_avg</th>\n",
       "      <th>job_skills</th>\n",
       "    </tr>\n",
       "  </thead>\n",
       "  <tbody>\n",
       "    <tr>\n",
       "      <th>56450</th>\n",
       "      <td>57500.0</td>\n",
       "      <td>tableau</td>\n",
       "    </tr>\n",
       "    <tr>\n",
       "      <th>56450</th>\n",
       "      <td>57500.0</td>\n",
       "      <td>power bi</td>\n",
       "    </tr>\n",
       "    <tr>\n",
       "      <th>60528</th>\n",
       "      <td>105000.0</td>\n",
       "      <td>r</td>\n",
       "    </tr>\n",
       "    <tr>\n",
       "      <th>60528</th>\n",
       "      <td>105000.0</td>\n",
       "      <td>python</td>\n",
       "    </tr>\n",
       "    <tr>\n",
       "      <th>60528</th>\n",
       "      <td>105000.0</td>\n",
       "      <td>spss</td>\n",
       "    </tr>\n",
       "  </tbody>\n",
       "</table>\n",
       "</div>"
      ],
      "text/plain": [
       "       salary_year_avg job_skills\n",
       "56450          57500.0    tableau\n",
       "56450          57500.0   power bi\n",
       "60528         105000.0          r\n",
       "60528         105000.0     python\n",
       "60528         105000.0       spss"
      ]
     },
     "execution_count": 195,
     "metadata": {},
     "output_type": "execute_result"
    }
   ],
   "source": [
    "df_DA_IND = df_DA_IND.dropna(subset=['salary_year_avg'])\n",
    "df_DA_IND_exploded = df_DA_IND.explode('job_skills')\n",
    "df_DA_IND_exploded[['salary_year_avg' , 'job_skills']].head(5)"
   ]
  },
  {
   "cell_type": "code",
   "execution_count": 196,
   "id": "fbb8cbfa",
   "metadata": {},
   "outputs": [
    {
     "data": {
      "application/vnd.microsoft.datawrangler.viewer.v0+json": {
       "columns": [
        {
         "name": "job_skills",
         "rawType": "object",
         "type": "string"
        },
        {
         "name": "skill_count",
         "rawType": "int64",
         "type": "integer"
        },
        {
         "name": "median_salary",
         "rawType": "float64",
         "type": "float"
        },
        {
         "name": "skill_percent",
         "rawType": "float64",
         "type": "float"
        }
       ],
       "ref": "f8137478-e9c3-4f91-aa1a-61e83f44bc7d",
       "rows": [
        [
         "sql",
         "8",
         "111175.0",
         "53.333333333333336"
        ],
        [
         "python",
         "6",
         "111175.0",
         "40.0"
        ],
        [
         "tableau",
         "5",
         "111175.0",
         "33.33333333333333"
        ],
        [
         "excel",
         "5",
         "111175.0",
         "33.33333333333333"
        ],
        [
         "r",
         "4",
         "111175.0",
         "26.666666666666668"
        ],
        [
         "powerpoint",
         "4",
         "111175.0",
         "26.666666666666668"
        ],
        [
         "power bi",
         "3",
         "111175.0",
         "20.0"
        ],
        [
         "spark",
         "3",
         "111175.0",
         "20.0"
        ],
        [
         "slack",
         "2",
         "106837.5",
         "13.333333333333334"
        ],
        [
         "looker",
         "2",
         "111188.5",
         "13.333333333333334"
        ]
       ],
       "shape": {
        "columns": 3,
        "rows": 10
       }
      },
      "text/html": [
       "<div>\n",
       "<style scoped>\n",
       "    .dataframe tbody tr th:only-of-type {\n",
       "        vertical-align: middle;\n",
       "    }\n",
       "\n",
       "    .dataframe tbody tr th {\n",
       "        vertical-align: top;\n",
       "    }\n",
       "\n",
       "    .dataframe thead th {\n",
       "        text-align: right;\n",
       "    }\n",
       "</style>\n",
       "<table border=\"1\" class=\"dataframe\">\n",
       "  <thead>\n",
       "    <tr style=\"text-align: right;\">\n",
       "      <th></th>\n",
       "      <th>skill_count</th>\n",
       "      <th>median_salary</th>\n",
       "      <th>skill_percent</th>\n",
       "    </tr>\n",
       "    <tr>\n",
       "      <th>job_skills</th>\n",
       "      <th></th>\n",
       "      <th></th>\n",
       "      <th></th>\n",
       "    </tr>\n",
       "  </thead>\n",
       "  <tbody>\n",
       "    <tr>\n",
       "      <th>sql</th>\n",
       "      <td>8</td>\n",
       "      <td>111175.0</td>\n",
       "      <td>53.333333</td>\n",
       "    </tr>\n",
       "    <tr>\n",
       "      <th>python</th>\n",
       "      <td>6</td>\n",
       "      <td>111175.0</td>\n",
       "      <td>40.000000</td>\n",
       "    </tr>\n",
       "    <tr>\n",
       "      <th>tableau</th>\n",
       "      <td>5</td>\n",
       "      <td>111175.0</td>\n",
       "      <td>33.333333</td>\n",
       "    </tr>\n",
       "    <tr>\n",
       "      <th>excel</th>\n",
       "      <td>5</td>\n",
       "      <td>111175.0</td>\n",
       "      <td>33.333333</td>\n",
       "    </tr>\n",
       "    <tr>\n",
       "      <th>r</th>\n",
       "      <td>4</td>\n",
       "      <td>111175.0</td>\n",
       "      <td>26.666667</td>\n",
       "    </tr>\n",
       "    <tr>\n",
       "      <th>powerpoint</th>\n",
       "      <td>4</td>\n",
       "      <td>111175.0</td>\n",
       "      <td>26.666667</td>\n",
       "    </tr>\n",
       "    <tr>\n",
       "      <th>power bi</th>\n",
       "      <td>3</td>\n",
       "      <td>111175.0</td>\n",
       "      <td>20.000000</td>\n",
       "    </tr>\n",
       "    <tr>\n",
       "      <th>spark</th>\n",
       "      <td>3</td>\n",
       "      <td>111175.0</td>\n",
       "      <td>20.000000</td>\n",
       "    </tr>\n",
       "    <tr>\n",
       "      <th>slack</th>\n",
       "      <td>2</td>\n",
       "      <td>106837.5</td>\n",
       "      <td>13.333333</td>\n",
       "    </tr>\n",
       "    <tr>\n",
       "      <th>looker</th>\n",
       "      <td>2</td>\n",
       "      <td>111188.5</td>\n",
       "      <td>13.333333</td>\n",
       "    </tr>\n",
       "  </tbody>\n",
       "</table>\n",
       "</div>"
      ],
      "text/plain": [
       "            skill_count  median_salary  skill_percent\n",
       "job_skills                                           \n",
       "sql                   8       111175.0      53.333333\n",
       "python                6       111175.0      40.000000\n",
       "tableau               5       111175.0      33.333333\n",
       "excel                 5       111175.0      33.333333\n",
       "r                     4       111175.0      26.666667\n",
       "powerpoint            4       111175.0      26.666667\n",
       "power bi              3       111175.0      20.000000\n",
       "spark                 3       111175.0      20.000000\n",
       "slack                 2       106837.5      13.333333\n",
       "looker                2       111188.5      13.333333"
      ]
     },
     "execution_count": 196,
     "metadata": {},
     "output_type": "execute_result"
    }
   ],
   "source": [
    "df_DA_skills = df_DA_IND_exploded.groupby('job_skills')['salary_year_avg'].agg(['count', 'median']).sort_values(by='count', ascending=False).head(10)\n",
    "df_DA_skills = df_DA_skills.rename(columns={'count': 'skill_count', 'median': 'median_salary'})\n",
    "df_job_count = len(df_DA_IND)\n",
    "df_DA_skills['skill_percent'] = df_DA_skills['skill_count'] / df_job_count * 100\n",
    "skill_percent = 5\n",
    "df_DA_skills_high_demand = df_DA_skills[df_DA_skills['skill_percent'] > skill_percent]\n",
    "df_DA_skills_high_demand"
   ]
  },
  {
   "cell_type": "code",
   "execution_count": 197,
   "id": "bccd5bb6",
   "metadata": {},
   "outputs": [
    {
     "data": {
      "image/png": "[encoded data removed]",
      "text/plain": [
       "<Figure size 800x600 with 1 Axes>"
      ]
     },
     "metadata": {},
     "output_type": "display_data"
    }
   ],
   "source": [
    "import matplotlib.pyplot as plt\n",
    "from adjustText import adjust_text\n",
    "\n",
    "plt.figure(figsize=(8, 6))\n",
    "plt.scatter(df_DA_skills_high_demand['skill_percent'], df_DA_skills_high_demand['median_salary'])\n",
    "plt.xlabel('Percent of Data Analyst Jobs')\n",
    "plt.ylabel('Median Salary (₹)') \n",
    "plt.title('Most Optimal Skills for Data Analysts in the India')\n",
    "plt.ylim(70000, 120000)\n",
    "\n",
    "ax = plt.gca()\n",
    "ax.yaxis.set_major_formatter(plt.FuncFormatter(lambda y, pos: f\"₹{int(y * 87/100000)}L\" if y < 120000 else \"₹1cr\")) \n",
    "plt.scatter(df_DA_skills_high_demand['skill_percent'], df_DA_skills_high_demand['median_salary'], s=130)\n",
    "\n",
    "texts = []\n",
    "for i, skill in enumerate(df_DA_skills_high_demand.index):\n",
    "    x = df_DA_skills_high_demand['skill_percent'].iloc[i]\n",
    "    y = df_DA_skills_high_demand['median_salary'].iloc[i]\n",
    "    if skill == \"powerpoint\":\n",
    "        plt.annotate(\n",
    "            skill,\n",
    "            (x, y),\n",
    "            xytext=(x - 0.7, y - 2700),  \n",
    "            fontsize=11,\n",
    "            weight='bold',\n",
    "            arrowprops=dict(arrowstyle='->', color='gray', lw=1.5),\n",
    "        )\n",
    "    elif skill == \"tableau\":\n",
    "        plt.annotate(\n",
    "            skill,\n",
    "            (x, y),\n",
    "            xytext=(x + 0.7, y - 2700),  \n",
    "            fontsize=11,\n",
    "            weight='bold',\n",
    "            arrowprops=dict(arrowstyle='->', color='gray', lw=1.5),\n",
    "        )\n",
    "    elif skill == \"spark\":\n",
    "        plt.annotate(\n",
    "            skill,\n",
    "            (x, y),\n",
    "            xytext=(x, y - 2900), \n",
    "            fontsize=11,\n",
    "            weight='bold',\n",
    "            arrowprops=dict(arrowstyle='->', color='gray', lw=1.5),\n",
    "        )\n",
    "    else:\n",
    "        plt.annotate(\n",
    "            skill,\n",
    "            (x, y),\n",
    "            xytext=(x + 0.7, y), \n",
    "            fontsize=11,\n",
    "            weight='bold',    \n",
    "        )\n",
    "from matplotlib.ticker import PercentFormatter\n",
    "ax = plt.gca()\n",
    "ax.xaxis.set_major_formatter(PercentFormatter(decimals=0))\n"
   ]
  },
  {
   "cell_type": "code",
   "execution_count": 198,
   "id": "0d661b7e",
   "metadata": {},
   "outputs": [
    {
     "data": {
      "text/plain": [
       "{'analyst_tools': ['visio',\n",
       "  'sas',\n",
       "  'microstrategy',\n",
       "  'spreadsheet',\n",
       "  'ssrs',\n",
       "  'alteryx',\n",
       "  'nuix',\n",
       "  'msaccess',\n",
       "  'splunk',\n",
       "  'excel',\n",
       "  'powerpoint',\n",
       "  'sap',\n",
       "  'cognos',\n",
       "  'spss',\n",
       "  'ms access',\n",
       "  'outlook',\n",
       "  'power bi',\n",
       "  'word',\n",
       "  'dax',\n",
       "  'ssis',\n",
       "  'esquisse',\n",
       "  'tableau',\n",
       "  'datarobot',\n",
       "  'sharepoint',\n",
       "  'qlik',\n",
       "  'looker',\n",
       "  'sheets',\n",
       "  'powerbi'],\n",
       " 'programming': ['kotlin',\n",
       "  'sas',\n",
       "  'f#',\n",
       "  'typescript',\n",
       "  'c++',\n",
       "  'shell',\n",
       "  'assembly',\n",
       "  'c',\n",
       "  'vb.net',\n",
       "  'crystal',\n",
       "  'sql',\n",
       "  'lua',\n",
       "  'sass',\n",
       "  'rust',\n",
       "  'javascript',\n",
       "  'dart',\n",
       "  'perl',\n",
       "  'c#',\n",
       "  'pascal',\n",
       "  'groovy',\n",
       "  'visual basic',\n",
       "  'powershell',\n",
       "  'swift',\n",
       "  'elixir',\n",
       "  'scala',\n",
       "  'css',\n",
       "  'php',\n",
       "  'cobol',\n",
       "  'ocaml',\n",
       "  'golang',\n",
       "  'fortran',\n",
       "  'clojure',\n",
       "  'apl',\n",
       "  'mongo',\n",
       "  'lisp',\n",
       "  'python',\n",
       "  'erlang',\n",
       "  'haskell',\n",
       "  'visualbasic',\n",
       "  't-sql',\n",
       "  'julia',\n",
       "  'no-sql',\n",
       "  'java',\n",
       "  'mongodb',\n",
       "  'go',\n",
       "  'html',\n",
       "  'nosql',\n",
       "  'bash',\n",
       "  'ruby',\n",
       "  'objective-c',\n",
       "  'solidity',\n",
       "  'matlab',\n",
       "  'vba',\n",
       "  'r',\n",
       "  'delphi'],\n",
       " 'cloud': ['ovh',\n",
       "  'vmware',\n",
       "  'colocation',\n",
       "  'gcp',\n",
       "  'linode',\n",
       "  'watson',\n",
       "  'redshift',\n",
       "  'snowflake',\n",
       "  'oracle',\n",
       "  'firebase',\n",
       "  'digitalocean',\n",
       "  'heroku',\n",
       "  'databricks',\n",
       "  'aws',\n",
       "  'bigquery',\n",
       "  'openstack',\n",
       "  'azure',\n",
       "  'aurora',\n",
       "  'ibm cloud'],\n",
       " 'libraries': ['flutter',\n",
       "  'scikit-learn',\n",
       "  'opencv',\n",
       "  'airflow',\n",
       "  'dlib',\n",
       "  'rshiny',\n",
       "  'ggplot2',\n",
       "  'tidyr',\n",
       "  'jupyter',\n",
       "  'seaborn',\n",
       "  'mxnet',\n",
       "  'spark',\n",
       "  'nltk',\n",
       "  'theano',\n",
       "  'huggingface',\n",
       "  'matplotlib',\n",
       "  'pyspark',\n",
       "  'capacitor',\n",
       "  'dplyr',\n",
       "  'hadoop',\n",
       "  'kafka',\n",
       "  'pandas',\n",
       "  'spring',\n",
       "  'selenium',\n",
       "  'electron',\n",
       "  'gdpr',\n",
       "  'tidyverse',\n",
       "  'ionic',\n",
       "  'shogun',\n",
       "  'xamarin',\n",
       "  'cordova',\n",
       "  'gtx',\n",
       "  'graphql',\n",
       "  'mlr',\n",
       "  'pytorch',\n",
       "  'mlpack',\n",
       "  'react',\n",
       "  'chainer',\n",
       "  'keras',\n",
       "  'plotly',\n",
       "  'numpy',\n",
       "  'qt',\n",
       "  'hugging face',\n",
       "  'tensorflow'],\n",
       " 'other': ['yarn',\n",
       "  'docker',\n",
       "  'pulumi',\n",
       "  'homebrew',\n",
       "  'bitbucket',\n",
       "  'terraform',\n",
       "  'npm',\n",
       "  'jenkins',\n",
       "  'terminal',\n",
       "  'flow',\n",
       "  'unreal',\n",
       "  'gitlab',\n",
       "  'github',\n",
       "  'ansible',\n",
       "  'puppet',\n",
       "  'unity',\n",
       "  'chef',\n",
       "  'svn',\n",
       "  'git',\n",
       "  'codecommit',\n",
       "  'kubernetes',\n",
       "  'atlassian'],\n",
       " 'databases': ['postgresql',\n",
       "  'sqlite',\n",
       "  'mongodb',\n",
       "  'couchbase',\n",
       "  'elasticsearch',\n",
       "  'sql server',\n",
       "  'sqlserver',\n",
       "  'couchdb',\n",
       "  'firebase',\n",
       "  'neo4j',\n",
       "  'cassandra',\n",
       "  'mariadb',\n",
       "  'mysql',\n",
       "  'db2',\n",
       "  'firestore',\n",
       "  'redis',\n",
       "  'dynamodb'],\n",
       " 'os': ['fedora',\n",
       "  'windows',\n",
       "  'linux',\n",
       "  'macos',\n",
       "  'redhat',\n",
       "  'ubuntu',\n",
       "  'wsl',\n",
       "  'unix',\n",
       "  'kali',\n",
       "  'suse',\n",
       "  'centos',\n",
       "  'arch',\n",
       "  'debian'],\n",
       " 'async': ['jira',\n",
       "  'microsoft lists',\n",
       "  'monday.com',\n",
       "  'clickup',\n",
       "  'wimi',\n",
       "  'notion',\n",
       "  'airtable',\n",
       "  'dingtalk',\n",
       "  'workfront',\n",
       "  'trello',\n",
       "  'asana',\n",
       "  'smartsheet',\n",
       "  'planner',\n",
       "  'confluence',\n",
       "  'wrike'],\n",
       " 'webframeworks': ['angular',\n",
       "  'vue',\n",
       "  'vue.js',\n",
       "  'drupal',\n",
       "  'ruby on rails',\n",
       "  'asp.net core',\n",
       "  'jquery',\n",
       "  'django',\n",
       "  'next.js',\n",
       "  'node',\n",
       "  'flask',\n",
       "  'angular.js',\n",
       "  'deno',\n",
       "  'express',\n",
       "  'ember.js',\n",
       "  'svelte',\n",
       "  'gatsby',\n",
       "  'nuxt.js',\n",
       "  'rubyon rails',\n",
       "  'node.js',\n",
       "  'fastify',\n",
       "  'fastapi',\n",
       "  'react.js',\n",
       "  'blazor',\n",
       "  'laravel',\n",
       "  'asp.netcore',\n",
       "  'ruby',\n",
       "  'phoenix',\n",
       "  'symfony',\n",
       "  'asp.net',\n",
       "  'play framework'],\n",
       " 'sync': ['zoom',\n",
       "  'unify',\n",
       "  'rocketchat',\n",
       "  'google chat',\n",
       "  'symphony',\n",
       "  'microsoft teams',\n",
       "  'ringcentral',\n",
       "  'twilio',\n",
       "  'wire',\n",
       "  'slack',\n",
       "  'mattermost',\n",
       "  'webex']}"
      ]
     },
     "execution_count": 198,
     "metadata": {},
     "output_type": "execute_result"
    }
   ],
   "source": [
    "df_technology = df['job_type_skills'].copy()\n",
    "\n",
    "df_technology = df_technology.drop_duplicates()\n",
    "df_technology = df_technology.dropna()\n",
    "\n",
    "# combine all dictionaries into one\n",
    "technology_dict = {}\n",
    "for row in df_technology:\n",
    "    row_dict = ast.literal_eval(row)  # convert string to dictionary\n",
    "    for key, value in row_dict.items():\n",
    "        if key in technology_dict:  # if key already exists in technology_dict, add value to existing value\n",
    "            technology_dict[key] += value\n",
    "        else:                       # if key does not exist in technology_dict, add key and value\n",
    "            technology_dict[key] = value\n",
    "\n",
    "for key, value in technology_dict.items():\n",
    "    technology_dict[key] = list(set(value))\n",
    "\n",
    "technology_dict"
   ]
  },
  {
   "cell_type": "code",
   "execution_count": 199,
   "id": "152c0d9a",
   "metadata": {},
   "outputs": [
    {
     "data": {
      "application/vnd.microsoft.datawrangler.viewer.v0+json": {
       "columns": [
        {
         "name": "index",
         "rawType": "int64",
         "type": "integer"
        },
        {
         "name": "technology",
         "rawType": "object",
         "type": "string"
        },
        {
         "name": "skills",
         "rawType": "object",
         "type": "string"
        }
       ],
       "ref": "4bd7c21f-9c83-4e48-a818-c3895dc2de07",
       "rows": [
        [
         "0",
         "analyst_tools",
         "visio"
        ],
        [
         "0",
         "analyst_tools",
         "sas"
        ],
        [
         "0",
         "analyst_tools",
         "microstrategy"
        ],
        [
         "0",
         "analyst_tools",
         "spreadsheet"
        ],
        [
         "0",
         "analyst_tools",
         "ssrs"
        ],
        [
         "0",
         "analyst_tools",
         "alteryx"
        ],
        [
         "0",
         "analyst_tools",
         "nuix"
        ],
        [
         "0",
         "analyst_tools",
         "msaccess"
        ],
        [
         "0",
         "analyst_tools",
         "splunk"
        ],
        [
         "0",
         "analyst_tools",
         "excel"
        ],
        [
         "0",
         "analyst_tools",
         "powerpoint"
        ],
        [
         "0",
         "analyst_tools",
         "sap"
        ],
        [
         "0",
         "analyst_tools",
         "cognos"
        ],
        [
         "0",
         "analyst_tools",
         "spss"
        ],
        [
         "0",
         "analyst_tools",
         "ms access"
        ],
        [
         "0",
         "analyst_tools",
         "outlook"
        ],
        [
         "0",
         "analyst_tools",
         "power bi"
        ],
        [
         "0",
         "analyst_tools",
         "word"
        ],
        [
         "0",
         "analyst_tools",
         "dax"
        ],
        [
         "0",
         "analyst_tools",
         "ssis"
        ],
        [
         "0",
         "analyst_tools",
         "esquisse"
        ],
        [
         "0",
         "analyst_tools",
         "tableau"
        ],
        [
         "0",
         "analyst_tools",
         "datarobot"
        ],
        [
         "0",
         "analyst_tools",
         "sharepoint"
        ],
        [
         "0",
         "analyst_tools",
         "qlik"
        ],
        [
         "0",
         "analyst_tools",
         "looker"
        ],
        [
         "0",
         "analyst_tools",
         "sheets"
        ],
        [
         "0",
         "analyst_tools",
         "powerbi"
        ],
        [
         "1",
         "programming",
         "kotlin"
        ],
        [
         "1",
         "programming",
         "sas"
        ],
        [
         "1",
         "programming",
         "f#"
        ],
        [
         "1",
         "programming",
         "typescript"
        ],
        [
         "1",
         "programming",
         "c++"
        ],
        [
         "1",
         "programming",
         "shell"
        ],
        [
         "1",
         "programming",
         "assembly"
        ],
        [
         "1",
         "programming",
         "c"
        ],
        [
         "1",
         "programming",
         "vb.net"
        ],
        [
         "1",
         "programming",
         "crystal"
        ],
        [
         "1",
         "programming",
         "sql"
        ],
        [
         "1",
         "programming",
         "lua"
        ],
        [
         "1",
         "programming",
         "sass"
        ],
        [
         "1",
         "programming",
         "rust"
        ],
        [
         "1",
         "programming",
         "javascript"
        ],
        [
         "1",
         "programming",
         "dart"
        ],
        [
         "1",
         "programming",
         "perl"
        ],
        [
         "1",
         "programming",
         "c#"
        ],
        [
         "1",
         "programming",
         "pascal"
        ],
        [
         "1",
         "programming",
         "groovy"
        ],
        [
         "1",
         "programming",
         "visual basic"
        ],
        [
         "1",
         "programming",
         "powershell"
        ]
       ],
       "shape": {
        "columns": 2,
        "rows": 256
       }
      },
      "text/html": [
       "<div>\n",
       "<style scoped>\n",
       "    .dataframe tbody tr th:only-of-type {\n",
       "        vertical-align: middle;\n",
       "    }\n",
       "\n",
       "    .dataframe tbody tr th {\n",
       "        vertical-align: top;\n",
       "    }\n",
       "\n",
       "    .dataframe thead th {\n",
       "        text-align: right;\n",
       "    }\n",
       "</style>\n",
       "<table border=\"1\" class=\"dataframe\">\n",
       "  <thead>\n",
       "    <tr style=\"text-align: right;\">\n",
       "      <th></th>\n",
       "      <th>technology</th>\n",
       "      <th>skills</th>\n",
       "    </tr>\n",
       "  </thead>\n",
       "  <tbody>\n",
       "    <tr>\n",
       "      <th>0</th>\n",
       "      <td>analyst_tools</td>\n",
       "      <td>visio</td>\n",
       "    </tr>\n",
       "    <tr>\n",
       "      <th>0</th>\n",
       "      <td>analyst_tools</td>\n",
       "      <td>sas</td>\n",
       "    </tr>\n",
       "    <tr>\n",
       "      <th>0</th>\n",
       "      <td>analyst_tools</td>\n",
       "      <td>microstrategy</td>\n",
       "    </tr>\n",
       "    <tr>\n",
       "      <th>0</th>\n",
       "      <td>analyst_tools</td>\n",
       "      <td>spreadsheet</td>\n",
       "    </tr>\n",
       "    <tr>\n",
       "      <th>0</th>\n",
       "      <td>analyst_tools</td>\n",
       "      <td>ssrs</td>\n",
       "    </tr>\n",
       "    <tr>\n",
       "      <th>...</th>\n",
       "      <td>...</td>\n",
       "      <td>...</td>\n",
       "    </tr>\n",
       "    <tr>\n",
       "      <th>9</th>\n",
       "      <td>sync</td>\n",
       "      <td>twilio</td>\n",
       "    </tr>\n",
       "    <tr>\n",
       "      <th>9</th>\n",
       "      <td>sync</td>\n",
       "      <td>wire</td>\n",
       "    </tr>\n",
       "    <tr>\n",
       "      <th>9</th>\n",
       "      <td>sync</td>\n",
       "      <td>slack</td>\n",
       "    </tr>\n",
       "    <tr>\n",
       "      <th>9</th>\n",
       "      <td>sync</td>\n",
       "      <td>mattermost</td>\n",
       "    </tr>\n",
       "    <tr>\n",
       "      <th>9</th>\n",
       "      <td>sync</td>\n",
       "      <td>webex</td>\n",
       "    </tr>\n",
       "  </tbody>\n",
       "</table>\n",
       "<p>256 rows × 2 columns</p>\n",
       "</div>"
      ],
      "text/plain": [
       "       technology         skills\n",
       "0   analyst_tools          visio\n",
       "0   analyst_tools            sas\n",
       "0   analyst_tools  microstrategy\n",
       "0   analyst_tools    spreadsheet\n",
       "0   analyst_tools           ssrs\n",
       "..            ...            ...\n",
       "9            sync         twilio\n",
       "9            sync           wire\n",
       "9            sync          slack\n",
       "9            sync     mattermost\n",
       "9            sync          webex\n",
       "\n",
       "[256 rows x 2 columns]"
      ]
     },
     "execution_count": 199,
     "metadata": {},
     "output_type": "execute_result"
    }
   ],
   "source": [
    "df_technology = pd.DataFrame(list(technology_dict.items()), columns=['technology', 'skills'])\n",
    "\n",
    "df_technology = df_technology.explode('skills')\n",
    "\n",
    "df_technology"
   ]
  },
  {
   "cell_type": "code",
   "execution_count": 200,
   "id": "c16b0427",
   "metadata": {},
   "outputs": [
    {
     "data": {
      "application/vnd.microsoft.datawrangler.viewer.v0+json": {
       "columns": [
        {
         "name": "index",
         "rawType": "int64",
         "type": "integer"
        },
        {
         "name": "skill_count",
         "rawType": "int64",
         "type": "integer"
        },
        {
         "name": "median_salary",
         "rawType": "float64",
         "type": "float"
        },
        {
         "name": "skill_percent",
         "rawType": "float64",
         "type": "float"
        },
        {
         "name": "technology",
         "rawType": "object",
         "type": "string"
        },
        {
         "name": "skills",
         "rawType": "object",
         "type": "string"
        }
       ],
       "ref": "56c03688-c3d4-47e4-b082-789e211346a1",
       "rows": [
        [
         "0",
         "8",
         "111175.0",
         "53.333333333333336",
         "programming",
         "sql"
        ],
        [
         "1",
         "6",
         "111175.0",
         "40.0",
         "programming",
         "python"
        ],
        [
         "2",
         "5",
         "111175.0",
         "33.33333333333333",
         "analyst_tools",
         "tableau"
        ],
        [
         "3",
         "5",
         "111175.0",
         "33.33333333333333",
         "analyst_tools",
         "excel"
        ],
        [
         "4",
         "4",
         "111175.0",
         "26.666666666666668",
         "programming",
         "r"
        ],
        [
         "5",
         "4",
         "111175.0",
         "26.666666666666668",
         "analyst_tools",
         "powerpoint"
        ],
        [
         "6",
         "3",
         "111175.0",
         "20.0",
         "analyst_tools",
         "power bi"
        ],
        [
         "7",
         "3",
         "111175.0",
         "20.0",
         "libraries",
         "spark"
        ],
        [
         "8",
         "2",
         "106837.5",
         "13.333333333333334",
         "sync",
         "slack"
        ],
        [
         "9",
         "2",
         "111188.5",
         "13.333333333333334",
         "analyst_tools",
         "looker"
        ]
       ],
       "shape": {
        "columns": 5,
        "rows": 10
       }
      },
      "text/html": [
       "<div>\n",
       "<style scoped>\n",
       "    .dataframe tbody tr th:only-of-type {\n",
       "        vertical-align: middle;\n",
       "    }\n",
       "\n",
       "    .dataframe tbody tr th {\n",
       "        vertical-align: top;\n",
       "    }\n",
       "\n",
       "    .dataframe thead th {\n",
       "        text-align: right;\n",
       "    }\n",
       "</style>\n",
       "<table border=\"1\" class=\"dataframe\">\n",
       "  <thead>\n",
       "    <tr style=\"text-align: right;\">\n",
       "      <th></th>\n",
       "      <th>skill_count</th>\n",
       "      <th>median_salary</th>\n",
       "      <th>skill_percent</th>\n",
       "      <th>technology</th>\n",
       "      <th>skills</th>\n",
       "    </tr>\n",
       "  </thead>\n",
       "  <tbody>\n",
       "    <tr>\n",
       "      <th>0</th>\n",
       "      <td>8</td>\n",
       "      <td>111175.0</td>\n",
       "      <td>53.333333</td>\n",
       "      <td>programming</td>\n",
       "      <td>sql</td>\n",
       "    </tr>\n",
       "    <tr>\n",
       "      <th>1</th>\n",
       "      <td>6</td>\n",
       "      <td>111175.0</td>\n",
       "      <td>40.000000</td>\n",
       "      <td>programming</td>\n",
       "      <td>python</td>\n",
       "    </tr>\n",
       "    <tr>\n",
       "      <th>2</th>\n",
       "      <td>5</td>\n",
       "      <td>111175.0</td>\n",
       "      <td>33.333333</td>\n",
       "      <td>analyst_tools</td>\n",
       "      <td>tableau</td>\n",
       "    </tr>\n",
       "    <tr>\n",
       "      <th>3</th>\n",
       "      <td>5</td>\n",
       "      <td>111175.0</td>\n",
       "      <td>33.333333</td>\n",
       "      <td>analyst_tools</td>\n",
       "      <td>excel</td>\n",
       "    </tr>\n",
       "    <tr>\n",
       "      <th>4</th>\n",
       "      <td>4</td>\n",
       "      <td>111175.0</td>\n",
       "      <td>26.666667</td>\n",
       "      <td>programming</td>\n",
       "      <td>r</td>\n",
       "    </tr>\n",
       "    <tr>\n",
       "      <th>5</th>\n",
       "      <td>4</td>\n",
       "      <td>111175.0</td>\n",
       "      <td>26.666667</td>\n",
       "      <td>analyst_tools</td>\n",
       "      <td>powerpoint</td>\n",
       "    </tr>\n",
       "    <tr>\n",
       "      <th>6</th>\n",
       "      <td>3</td>\n",
       "      <td>111175.0</td>\n",
       "      <td>20.000000</td>\n",
       "      <td>analyst_tools</td>\n",
       "      <td>power bi</td>\n",
       "    </tr>\n",
       "    <tr>\n",
       "      <th>7</th>\n",
       "      <td>3</td>\n",
       "      <td>111175.0</td>\n",
       "      <td>20.000000</td>\n",
       "      <td>libraries</td>\n",
       "      <td>spark</td>\n",
       "    </tr>\n",
       "    <tr>\n",
       "      <th>8</th>\n",
       "      <td>2</td>\n",
       "      <td>106837.5</td>\n",
       "      <td>13.333333</td>\n",
       "      <td>sync</td>\n",
       "      <td>slack</td>\n",
       "    </tr>\n",
       "    <tr>\n",
       "      <th>9</th>\n",
       "      <td>2</td>\n",
       "      <td>111188.5</td>\n",
       "      <td>13.333333</td>\n",
       "      <td>analyst_tools</td>\n",
       "      <td>looker</td>\n",
       "    </tr>\n",
       "  </tbody>\n",
       "</table>\n",
       "</div>"
      ],
      "text/plain": [
       "   skill_count  median_salary  skill_percent     technology      skills\n",
       "0            8       111175.0      53.333333    programming         sql\n",
       "1            6       111175.0      40.000000    programming      python\n",
       "2            5       111175.0      33.333333  analyst_tools     tableau\n",
       "3            5       111175.0      33.333333  analyst_tools       excel\n",
       "4            4       111175.0      26.666667    programming           r\n",
       "5            4       111175.0      26.666667  analyst_tools  powerpoint\n",
       "6            3       111175.0      20.000000  analyst_tools    power bi\n",
       "7            3       111175.0      20.000000      libraries       spark\n",
       "8            2       106837.5      13.333333           sync       slack\n",
       "9            2       111188.5      13.333333  analyst_tools      looker"
      ]
     },
     "execution_count": 200,
     "metadata": {},
     "output_type": "execute_result"
    }
   ],
   "source": [
    "df_DA_skills_tech = df_DA_skills.merge(df_technology, left_on='job_skills', right_on='skills')\n",
    "\n",
    "df_DA_skills_tech\n"
   ]
  },
  {
   "cell_type": "code",
   "execution_count": 202,
   "id": "34a34f0a",
   "metadata": {},
   "outputs": [],
   "source": [
    "skill_limit = 5\n",
    "df_DA_skills_tech_high_demand = df_DA_skills_tech[df_DA_skills_tech['skill_percent'] > skill_limit]"
   ]
  },
  {
   "cell_type": "code",
   "execution_count": null,
   "id": "72411ecd",
   "metadata": {},
   "outputs": [
    {
     "data": {
      "image/png": "[encoded data removed]",
      "text/plain": [
       "<Figure size 640x480 with 1 Axes>"
      ]
     },
     "metadata": {},
     "output_type": "display_data"
    }
   ],
   "source": [
    "sns.scatterplot(\n",
    "    data=df_DA_skills_tech_high_demand,\n",
    "    x='skill_percent',\n",
    "    y='median_salary',\n",
    "    hue='technology'\n",
    ")\n",
    "\n",
    "sns.despine()\n",
    "sns.set_theme(style='ticks')\n",
    "\n",
    "# adjustText\n",
    "texts = []\n",
    "for i, skill in enumerate(df_DA_skills_high_demand.index):\n",
    "    x = df_DA_skills_high_demand['skill_percent'].iloc[i]\n",
    "    y = df_DA_skills_high_demand['median_salary'].iloc[i]\n",
    "    if skill == \"powerpoint\":\n",
    "        plt.annotate(\n",
    "            skill,\n",
    "            (x, y),\n",
    "            xytext=(x - 0.7, y - 2100),  \n",
    "            fontsize=11,\n",
    "            weight='bold',\n",
    "            arrowprops=dict(arrowstyle='->', color='gray', lw=1.5),\n",
    "        )\n",
    "    elif skill == \"tableau\":\n",
    "        plt.annotate(\n",
    "            skill,\n",
    "            (x, y),\n",
    "            xytext=(x + 0.7, y - 2100),  \n",
    "            fontsize=11,\n",
    "            weight='bold',\n",
    "            arrowprops=dict(arrowstyle='->', color='gray', lw=1.5),\n",
    "        )\n",
    "    elif skill == \"spark\":\n",
    "        plt.annotate(\n",
    "            skill,\n",
    "            (x, y),\n",
    "            xytext=(x, y - 2300), \n",
    "            fontsize=11,\n",
    "            weight='bold',\n",
    "            arrowprops=dict(arrowstyle='->', color='gray', lw=1.5),\n",
    "        )\n",
    "    else:\n",
    "        plt.annotate(\n",
    "            skill,\n",
    "            (x, y),\n",
    "            xytext=(x + 0.7, y), \n",
    "            fontsize=11,\n",
    "            weight='bold',    \n",
    "        )\n",
    "\n",
    "adjust_text(texts, arrowprops=dict(arrowstyle='->', color='gray'))\n",
    "\n",
    "plt.xlabel('Percent of Data Analyst Jobs')\n",
    "plt.ylabel('Median Yearly Salary')\n",
    "plt.title('Most Optimal Skills for Data Analysts in the India')\n",
    "plt.legend(title='Technology',loc='lower right')\n",
    "plt.ylim(90000, 115000)\n",
    "\n",
    "from matplotlib.ticker import PercentFormatter\n",
    "ax = plt.gca()\n",
    "ax.yaxis.set_major_formatter(plt.FuncFormatter(lambda y, pos: f\"₹{int(y * 87/100000)}L\" if y < 115000 else \"₹1cr\"))\n",
    "ax.xaxis.set_major_formatter(PercentFormatter(decimals=0))\n",
    "\n",
    "plt.tight_layout()\n",
    "plt.show()"
   ]
  }
 ],
 "metadata": {
  "kernelspec": {
   "display_name": "python_course",
   "language": "python",
   "name": "python3"
  },
  "language_info": {
   "codemirror_mode": {
    "name": "ipython",
    "version": 3
   },
   "file_extension": ".py",
   "mimetype": "text/x-python",
   "name": "python",
   "nbconvert_exporter": "python",
   "pygments_lexer": "ipython3",
   "version": "3.11.13"
  }
 },
 "nbformat": 4,
 "nbformat_minor": 5
}
