{
 "cells": [
  {
   "cell_type": "markdown",
   "id": "5996302d",
   "metadata": {},
   "source": [
    "# What are the most demanded skills for the top 3 most popular data roles?"
   ]
  },
  {
   "cell_type": "markdown",
   "id": "fda82e87",
   "metadata": {},
   "source": [
    "# Import Libraries and Data"
   ]
  },
  {
   "cell_type": "code",
   "execution_count": 10,
   "id": "c3852797",
   "metadata": {},
   "outputs": [],
   "source": [
    "import ast\n",
    "import pandas as pd\n",
    "import seaborn as sns\n",
    "from datasets import load_dataset\n",
    "import matplotlib.pyplot as plt  \n",
    "\n",
    "# Loading Data\n",
    "dataset = load_dataset('lukebarousse/data_jobs')\n",
    "df = dataset['train'].to_pandas()\n",
    "\n",
    "# Data Cleanup\n",
    "df['job_posted_date'] = pd.to_datetime(df['job_posted_date'])\n",
    "df['job_skills'] = df['job_skills'].apply(lambda x: ast.literal_eval(x) if pd.notna(x) else x)"
   ]
  },
  {
   "cell_type": "markdown",
   "id": "2227916a",
   "metadata": {},
   "source": [
    "# Filter Data for the United States"
   ]
  },
  {
   "cell_type": "code",
   "execution_count": 11,
   "id": "41f65d4c",
   "metadata": {},
   "outputs": [],
   "source": [
    "df_IND = df[df['job_country'] == 'India']"
   ]
  },
  {
   "cell_type": "markdown",
   "id": "e7958552",
   "metadata": {},
   "source": [
    "# Explode Skills"
   ]
  },
  {
   "cell_type": "code",
   "execution_count": 12,
   "id": "3a09fdae",
   "metadata": {},
   "outputs": [
    {
     "data": {
      "application/vnd.microsoft.datawrangler.viewer.v0+json": {
       "columns": [
        {
         "name": "index",
         "rawType": "int64",
         "type": "integer"
        },
        {
         "name": "job_title",
         "rawType": "object",
         "type": "string"
        },
        {
         "name": "job_skills",
         "rawType": "object",
         "type": "unknown"
        }
       ],
       "ref": "91deabb9-60ef-4b5a-b7b3-78d9fe0698f2",
       "rows": [
        [
         "16",
         "Big Data Engineer",
         "powershell"
        ],
        [
         "16",
         "Big Data Engineer",
         "python"
        ],
        [
         "16",
         "Big Data Engineer",
         "sql"
        ],
        [
         "16",
         "Big Data Engineer",
         "mysql"
        ],
        [
         "16",
         "Big Data Engineer",
         "sql server"
        ],
        [
         "16",
         "Big Data Engineer",
         "databricks"
        ],
        [
         "16",
         "Big Data Engineer",
         "azure"
        ],
        [
         "19",
         "Data Scientist",
         "r"
        ],
        [
         "19",
         "Data Scientist",
         "sql"
        ],
        [
         "19",
         "Data Scientist",
         "python"
        ],
        [
         "19",
         "Data Scientist",
         "scala"
        ],
        [
         "19",
         "Data Scientist",
         "java"
        ],
        [
         "19",
         "Data Scientist",
         "c++"
        ],
        [
         "19",
         "Data Scientist",
         "hadoop"
        ],
        [
         "19",
         "Data Scientist",
         "tableau"
        ],
        [
         "29",
         "Data Scientist",
         null
        ],
        [
         "38",
         "Data Quality and Governance Analyst 1",
         "sql"
        ],
        [
         "38",
         "Data Quality and Governance Analyst 1",
         "python"
        ],
        [
         "38",
         "Data Quality and Governance Analyst 1",
         "databricks"
        ],
        [
         "38",
         "Data Quality and Governance Analyst 1",
         "power bi"
        ],
        [
         "38",
         "Data Quality and Governance Analyst 1",
         "excel"
        ],
        [
         "38",
         "Data Quality and Governance Analyst 1",
         "word"
        ],
        [
         "38",
         "Data Quality and Governance Analyst 1",
         "powerpoint"
        ],
        [
         "42",
         "Senior Data Engineer(Python)-1563,1637&1633",
         "python"
        ],
        [
         "42",
         "Senior Data Engineer(Python)-1563,1637&1633",
         "sql"
        ],
        [
         "42",
         "Senior Data Engineer(Python)-1563,1637&1633",
         "aws"
        ],
        [
         "42",
         "Senior Data Engineer(Python)-1563,1637&1633",
         "pyspark"
        ],
        [
         "42",
         "Senior Data Engineer(Python)-1563,1637&1633",
         "docker"
        ],
        [
         "42",
         "Senior Data Engineer(Python)-1563,1637&1633",
         "jira"
        ],
        [
         "80",
         "Director - Enterprise Architecture and Data Engineering",
         "gcp"
        ],
        [
         "80",
         "Director - Enterprise Architecture and Data Engineering",
         "graphql"
        ],
        [
         "80",
         "Director - Enterprise Architecture and Data Engineering",
         "kubernetes"
        ],
        [
         "95",
         "Data Engineer",
         "nosql"
        ],
        [
         "95",
         "Data Engineer",
         "mongodb"
        ],
        [
         "95",
         "Data Engineer",
         "mongodb"
        ],
        [
         "95",
         "Data Engineer",
         "elasticsearch"
        ],
        [
         "95",
         "Data Engineer",
         "mysql"
        ],
        [
         "95",
         "Data Engineer",
         "redis"
        ],
        [
         "95",
         "Data Engineer",
         "neo4j"
        ],
        [
         "95",
         "Data Engineer",
         "hadoop"
        ],
        [
         "95",
         "Data Engineer",
         "kafka"
        ],
        [
         "95",
         "Data Engineer",
         "tableau"
        ],
        [
         "95",
         "Data Engineer",
         "docker"
        ],
        [
         "95",
         "Data Engineer",
         "kubernetes"
        ],
        [
         "123",
         "Data Analytics work from home job/internship at Inoket Solutions...",
         "sql"
        ],
        [
         "123",
         "Data Analytics work from home job/internship at Inoket Solutions...",
         "excel"
        ],
        [
         "123",
         "Data Analytics work from home job/internship at Inoket Solutions...",
         "word"
        ],
        [
         "123",
         "Data Analytics work from home job/internship at Inoket Solutions...",
         "powerpoint"
        ],
        [
         "123",
         "Data Analytics work from home job/internship at Inoket Solutions...",
         "outlook"
        ],
        [
         "123",
         "Data Analytics work from home job/internship at Inoket Solutions...",
         "power bi"
        ]
       ],
       "shape": {
        "columns": 2,
        "rows": 297707
       }
      },
      "text/html": [
       "<div>\n",
       "<style scoped>\n",
       "    .dataframe tbody tr th:only-of-type {\n",
       "        vertical-align: middle;\n",
       "    }\n",
       "\n",
       "    .dataframe tbody tr th {\n",
       "        vertical-align: top;\n",
       "    }\n",
       "\n",
       "    .dataframe thead th {\n",
       "        text-align: right;\n",
       "    }\n",
       "</style>\n",
       "<table border=\"1\" class=\"dataframe\">\n",
       "  <thead>\n",
       "    <tr style=\"text-align: right;\">\n",
       "      <th></th>\n",
       "      <th>job_title</th>\n",
       "      <th>job_skills</th>\n",
       "    </tr>\n",
       "  </thead>\n",
       "  <tbody>\n",
       "    <tr>\n",
       "      <th>16</th>\n",
       "      <td>Big Data Engineer</td>\n",
       "      <td>powershell</td>\n",
       "    </tr>\n",
       "    <tr>\n",
       "      <th>16</th>\n",
       "      <td>Big Data Engineer</td>\n",
       "      <td>python</td>\n",
       "    </tr>\n",
       "    <tr>\n",
       "      <th>16</th>\n",
       "      <td>Big Data Engineer</td>\n",
       "      <td>sql</td>\n",
       "    </tr>\n",
       "    <tr>\n",
       "      <th>16</th>\n",
       "      <td>Big Data Engineer</td>\n",
       "      <td>mysql</td>\n",
       "    </tr>\n",
       "    <tr>\n",
       "      <th>16</th>\n",
       "      <td>Big Data Engineer</td>\n",
       "      <td>sql server</td>\n",
       "    </tr>\n",
       "    <tr>\n",
       "      <th>...</th>\n",
       "      <td>...</td>\n",
       "      <td>...</td>\n",
       "    </tr>\n",
       "    <tr>\n",
       "      <th>785716</th>\n",
       "      <td>Application Support Analyst</td>\n",
       "      <td>c#</td>\n",
       "    </tr>\n",
       "    <tr>\n",
       "      <th>785716</th>\n",
       "      <td>Application Support Analyst</td>\n",
       "      <td>sql</td>\n",
       "    </tr>\n",
       "    <tr>\n",
       "      <th>785718</th>\n",
       "      <td>Senior Performance QA Analyst</td>\n",
       "      <td>None</td>\n",
       "    </tr>\n",
       "    <tr>\n",
       "      <th>785740</th>\n",
       "      <td>AWS System Analyst</td>\n",
       "      <td>aws</td>\n",
       "    </tr>\n",
       "    <tr>\n",
       "      <th>785740</th>\n",
       "      <td>AWS System Analyst</td>\n",
       "      <td>flow</td>\n",
       "    </tr>\n",
       "  </tbody>\n",
       "</table>\n",
       "<p>297707 rows × 2 columns</p>\n",
       "</div>"
      ],
      "text/plain": [
       "                            job_title  job_skills\n",
       "16                  Big Data Engineer  powershell\n",
       "16                  Big Data Engineer      python\n",
       "16                  Big Data Engineer         sql\n",
       "16                  Big Data Engineer       mysql\n",
       "16                  Big Data Engineer  sql server\n",
       "...                               ...         ...\n",
       "785716    Application Support Analyst          c#\n",
       "785716    Application Support Analyst         sql\n",
       "785718  Senior Performance QA Analyst        None\n",
       "785740             AWS System Analyst         aws\n",
       "785740             AWS System Analyst        flow\n",
       "\n",
       "[297707 rows x 2 columns]"
      ]
     },
     "execution_count": 12,
     "metadata": {},
     "output_type": "execute_result"
    }
   ],
   "source": [
    "df_skills = df_IND.explode('job_skills')\n",
    "\n",
    "df_skills[['job_title', 'job_skills']]"
   ]
  },
  {
   "cell_type": "markdown",
   "id": "37f6d8a2",
   "metadata": {},
   "source": [
    "# Count Skills per Job Title"
   ]
  },
  {
   "cell_type": "code",
   "execution_count": 13,
   "id": "24c4b162",
   "metadata": {},
   "outputs": [
    {
     "data": {
      "application/vnd.microsoft.datawrangler.viewer.v0+json": {
       "columns": [
        {
         "name": "index",
         "rawType": "int64",
         "type": "integer"
        },
        {
         "name": "job_skills",
         "rawType": "object",
         "type": "string"
        },
        {
         "name": "job_title_short",
         "rawType": "object",
         "type": "string"
        },
        {
         "name": "skill_count",
         "rawType": "int64",
         "type": "integer"
        }
       ],
       "ref": "9c40b105-6fa7-4d05-be2e-c619e167ce86",
       "rows": [
        [
         "1374",
         "sql",
         "Data Engineer",
         "12993"
        ],
        [
         "1088",
         "python",
         "Data Engineer",
         "11568"
        ],
        [
         "1089",
         "python",
         "Data Scientist",
         "9248"
        ],
        [
         "1327",
         "spark",
         "Data Engineer",
         "7157"
        ],
        [
         "103",
         "aws",
         "Data Engineer",
         "6993"
        ],
        [
         "113",
         "azure",
         "Data Engineer",
         "6819"
        ],
        [
         "1375",
         "sql",
         "Data Scientist",
         "6367"
        ],
        [
         "1122",
         "r",
         "Data Scientist",
         "4327"
        ],
        [
         "606",
         "java",
         "Data Engineer",
         "4023"
        ],
        [
         "560",
         "hadoop",
         "Data Engineer",
         "3999"
        ],
        [
         "1229",
         "scala",
         "Data Engineer",
         "3667"
        ],
        [
         "281",
         "databricks",
         "Data Engineer",
         "3591"
        ],
        [
         "674",
         "kafka",
         "Data Engineer",
         "3477"
        ],
        [
         "1078",
         "pyspark",
         "Data Engineer",
         "3380"
        ],
        [
         "1312",
         "snowflake",
         "Data Engineer",
         "3172"
        ],
        [
         "1373",
         "sql",
         "Data Analyst",
         "3159"
        ],
        [
         "1378",
         "sql",
         "Senior Data Engineer",
         "3143"
        ],
        [
         "3",
         "airflow",
         "Data Engineer",
         "2990"
        ],
        [
         "1092",
         "python",
         "Senior Data Engineer",
         "2905"
        ],
        [
         "894",
         "nosql",
         "Data Engineer",
         "2836"
        ],
        [
         "468",
         "gcp",
         "Data Engineer",
         "2694"
        ],
        [
         "104",
         "aws",
         "Data Scientist",
         "2580"
        ],
        [
         "1162",
         "redshift",
         "Data Engineer",
         "2492"
        ],
        [
         "1459",
         "tableau",
         "Data Scientist",
         "2426"
        ],
        [
         "1328",
         "spark",
         "Data Scientist",
         "2391"
        ],
        [
         "1469",
         "tensorflow",
         "Data Scientist",
         "2375"
        ],
        [
         "1087",
         "python",
         "Data Analyst",
         "2203"
        ],
        [
         "392",
         "excel",
         "Data Analyst",
         "2117"
        ],
        [
         "806",
         "mongodb",
         "Data Engineer",
         "2112"
        ],
        [
         "114",
         "azure",
         "Data Scientist",
         "2107"
        ],
        [
         "1458",
         "tableau",
         "Data Engineer",
         "2029"
        ],
        [
         "1331",
         "spark",
         "Senior Data Engineer",
         "1993"
        ],
        [
         "107",
         "aws",
         "Senior Data Engineer",
         "1987"
        ],
        [
         "495",
         "git",
         "Data Engineer",
         "1897"
        ],
        [
         "1099",
         "pytorch",
         "Data Scientist",
         "1817"
        ],
        [
         "561",
         "hadoop",
         "Data Scientist",
         "1778"
        ],
        [
         "1093",
         "python",
         "Senior Data Scientist",
         "1776"
        ],
        [
         "1034",
         "power bi",
         "Data Engineer",
         "1741"
        ],
        [
         "1217",
         "sas",
         "Data Scientist",
         "1670"
        ],
        [
         "1457",
         "tableau",
         "Data Analyst",
         "1667"
        ],
        [
         "117",
         "azure",
         "Senior Data Engineer",
         "1625"
        ],
        [
         "1384",
         "sql server",
         "Data Engineer",
         "1623"
        ],
        [
         "948",
         "oracle",
         "Data Engineer",
         "1560"
        ],
        [
         "969",
         "pandas",
         "Data Scientist",
         "1506"
        ],
        [
         "394",
         "excel",
         "Data Scientist",
         "1459"
        ],
        [
         "446",
         "flow",
         "Data Engineer",
         "1401"
        ],
        [
         "1286",
         "shell",
         "Data Engineer",
         "1371"
        ],
        [
         "921",
         "numpy",
         "Data Scientist",
         "1348"
        ],
        [
         "607",
         "java",
         "Data Scientist",
         "1345"
        ],
        [
         "702",
         "kubernetes",
         "Data Engineer",
         "1306"
        ]
       ],
       "shape": {
        "columns": 3,
        "rows": 1689
       }
      },
      "text/html": [
       "<div>\n",
       "<style scoped>\n",
       "    .dataframe tbody tr th:only-of-type {\n",
       "        vertical-align: middle;\n",
       "    }\n",
       "\n",
       "    .dataframe tbody tr th {\n",
       "        vertical-align: top;\n",
       "    }\n",
       "\n",
       "    .dataframe thead th {\n",
       "        text-align: right;\n",
       "    }\n",
       "</style>\n",
       "<table border=\"1\" class=\"dataframe\">\n",
       "  <thead>\n",
       "    <tr style=\"text-align: right;\">\n",
       "      <th></th>\n",
       "      <th>job_skills</th>\n",
       "      <th>job_title_short</th>\n",
       "      <th>skill_count</th>\n",
       "    </tr>\n",
       "  </thead>\n",
       "  <tbody>\n",
       "    <tr>\n",
       "      <th>1374</th>\n",
       "      <td>sql</td>\n",
       "      <td>Data Engineer</td>\n",
       "      <td>12993</td>\n",
       "    </tr>\n",
       "    <tr>\n",
       "      <th>1088</th>\n",
       "      <td>python</td>\n",
       "      <td>Data Engineer</td>\n",
       "      <td>11568</td>\n",
       "    </tr>\n",
       "    <tr>\n",
       "      <th>1089</th>\n",
       "      <td>python</td>\n",
       "      <td>Data Scientist</td>\n",
       "      <td>9248</td>\n",
       "    </tr>\n",
       "    <tr>\n",
       "      <th>1327</th>\n",
       "      <td>spark</td>\n",
       "      <td>Data Engineer</td>\n",
       "      <td>7157</td>\n",
       "    </tr>\n",
       "    <tr>\n",
       "      <th>103</th>\n",
       "      <td>aws</td>\n",
       "      <td>Data Engineer</td>\n",
       "      <td>6993</td>\n",
       "    </tr>\n",
       "    <tr>\n",
       "      <th>...</th>\n",
       "      <td>...</td>\n",
       "      <td>...</td>\n",
       "      <td>...</td>\n",
       "    </tr>\n",
       "    <tr>\n",
       "      <th>389</th>\n",
       "      <td>esquisse</td>\n",
       "      <td>Data Scientist</td>\n",
       "      <td>1</td>\n",
       "    </tr>\n",
       "    <tr>\n",
       "      <th>887</th>\n",
       "      <td>node.js</td>\n",
       "      <td>Senior Data Analyst</td>\n",
       "      <td>1</td>\n",
       "    </tr>\n",
       "    <tr>\n",
       "      <th>753</th>\n",
       "      <td>matlab</td>\n",
       "      <td>Cloud Engineer</td>\n",
       "      <td>1</td>\n",
       "    </tr>\n",
       "    <tr>\n",
       "      <th>411</th>\n",
       "      <td>fastapi</td>\n",
       "      <td>Cloud Engineer</td>\n",
       "      <td>1</td>\n",
       "    </tr>\n",
       "    <tr>\n",
       "      <th>318</th>\n",
       "      <td>delphi</td>\n",
       "      <td>Data Engineer</td>\n",
       "      <td>1</td>\n",
       "    </tr>\n",
       "  </tbody>\n",
       "</table>\n",
       "<p>1689 rows × 3 columns</p>\n",
       "</div>"
      ],
      "text/plain": [
       "     job_skills      job_title_short  skill_count\n",
       "1374        sql        Data Engineer        12993\n",
       "1088     python        Data Engineer        11568\n",
       "1089     python       Data Scientist         9248\n",
       "1327      spark        Data Engineer         7157\n",
       "103         aws        Data Engineer         6993\n",
       "...         ...                  ...          ...\n",
       "389    esquisse       Data Scientist            1\n",
       "887     node.js  Senior Data Analyst            1\n",
       "753      matlab       Cloud Engineer            1\n",
       "411     fastapi       Cloud Engineer            1\n",
       "318      delphi        Data Engineer            1\n",
       "\n",
       "[1689 rows x 3 columns]"
      ]
     },
     "execution_count": 13,
     "metadata": {},
     "output_type": "execute_result"
    }
   ],
   "source": [
    "df_skills_count = df_skills.groupby(['job_skills', 'job_title_short']).size()\n",
    "\n",
    "df_skills_count = df_skills_count.reset_index(name='skill_count')\n",
    "\n",
    "df_skills_count.sort_values(by='skill_count', ascending=False, inplace=True)\n",
    "\n",
    "df_skills_count"
   ]
  },
  {
   "cell_type": "markdown",
   "id": "3e0cec86",
   "metadata": {},
   "source": [
    "# Create List of Top 3 Roles"
   ]
  },
  {
   "cell_type": "code",
   "execution_count": 14,
   "id": "fe61f01e",
   "metadata": {},
   "outputs": [
    {
     "data": {
      "text/plain": [
       "['Data Analyst', 'Data Engineer', 'Data Scientist']"
      ]
     },
     "execution_count": 14,
     "metadata": {},
     "output_type": "execute_result"
    }
   ],
   "source": [
    "job_titles = df_skills_count['job_title_short'].unique().tolist()\n",
    "\n",
    "job_titles = sorted(job_titles[:3])\n",
    "\n",
    "job_titles"
   ]
  },
  {
   "cell_type": "markdown",
   "id": "96d9d093",
   "metadata": {},
   "source": [
    "# Plot Skill"
   ]
  },
  {
   "cell_type": "code",
   "execution_count": 15,
   "id": "df849afb",
   "metadata": {},
   "outputs": [
    {
     "data": {
      "image/png": "[encoded data removed]",
      "text/plain": [
       "<Figure size 640x480 with 3 Axes>"
      ]
     },
     "metadata": {},
     "output_type": "display_data"
    }
   ],
   "source": [
    "fig, ax = plt.subplots(len(job_titles), 1)\n",
    "\n",
    "sns.set_theme(style='ticks')\n",
    "\n",
    "for i, job_title in enumerate(job_titles):\n",
    "    df_plot = df_skills_count[df_skills_count['job_title_short'] == job_title].head(5)[::-1]\n",
    "    sns.barplot(data=df_plot, x='skill_count', y='job_skills', ax=ax[i], hue='skill_count', palette='dark:b_r')\n",
    "    ax[i].set_title(job_title)\n",
    "    ax[i].invert_yaxis()\n",
    "    ax[i].set_ylabel('')\n",
    "    ax[i].set_xlabel('')\n",
    "    ax[i].get_legend().remove()\n",
    "    ax[i].set_xlim(0, 45000) # make the scales the same\n",
    "\n",
    "fig.suptitle('Counts of Skills Requested in US Job Postings', fontsize=15)\n",
    "fig.tight_layout(h_pad=0.5) # fix the overlap\n",
    "plt.show()"
   ]
  },
  {
   "cell_type": "markdown",
   "id": "3000f4be",
   "metadata": {},
   "source": [
    "# Convert Counts to Percentages"
   ]
  },
  {
   "cell_type": "code",
   "execution_count": 16,
   "id": "ba3a2420",
   "metadata": {},
   "outputs": [
    {
     "data": {
      "application/vnd.microsoft.datawrangler.viewer.v0+json": {
       "columns": [
        {
         "name": "index",
         "rawType": "int64",
         "type": "integer"
        },
        {
         "name": "job_title_short",
         "rawType": "object",
         "type": "string"
        },
        {
         "name": "jobs_total",
         "rawType": "int64",
         "type": "integer"
        }
       ],
       "ref": "d17cfd51-c4c5-4b53-85fc-6c6b7f18d77b",
       "rows": [
        [
         "0",
         "Data Engineer",
         "19062"
        ],
        [
         "1",
         "Data Scientist",
         "13279"
        ],
        [
         "2",
         "Data Analyst",
         "6121"
        ],
        [
         "3",
         "Senior Data Engineer",
         "4353"
        ],
        [
         "4",
         "Senior Data Scientist",
         "2486"
        ],
        [
         "5",
         "Business Analyst",
         "1887"
        ],
        [
         "6",
         "Software Engineer",
         "1795"
        ],
        [
         "7",
         "Senior Data Analyst",
         "1083"
        ],
        [
         "8",
         "Machine Learning Engineer",
         "671"
        ],
        [
         "9",
         "Cloud Engineer",
         "351"
        ]
       ],
       "shape": {
        "columns": 2,
        "rows": 10
       }
      },
      "text/html": [
       "<div>\n",
       "<style scoped>\n",
       "    .dataframe tbody tr th:only-of-type {\n",
       "        vertical-align: middle;\n",
       "    }\n",
       "\n",
       "    .dataframe tbody tr th {\n",
       "        vertical-align: top;\n",
       "    }\n",
       "\n",
       "    .dataframe thead th {\n",
       "        text-align: right;\n",
       "    }\n",
       "</style>\n",
       "<table border=\"1\" class=\"dataframe\">\n",
       "  <thead>\n",
       "    <tr style=\"text-align: right;\">\n",
       "      <th></th>\n",
       "      <th>job_title_short</th>\n",
       "      <th>jobs_total</th>\n",
       "    </tr>\n",
       "  </thead>\n",
       "  <tbody>\n",
       "    <tr>\n",
       "      <th>0</th>\n",
       "      <td>Data Engineer</td>\n",
       "      <td>19062</td>\n",
       "    </tr>\n",
       "    <tr>\n",
       "      <th>1</th>\n",
       "      <td>Data Scientist</td>\n",
       "      <td>13279</td>\n",
       "    </tr>\n",
       "    <tr>\n",
       "      <th>2</th>\n",
       "      <td>Data Analyst</td>\n",
       "      <td>6121</td>\n",
       "    </tr>\n",
       "    <tr>\n",
       "      <th>3</th>\n",
       "      <td>Senior Data Engineer</td>\n",
       "      <td>4353</td>\n",
       "    </tr>\n",
       "    <tr>\n",
       "      <th>4</th>\n",
       "      <td>Senior Data Scientist</td>\n",
       "      <td>2486</td>\n",
       "    </tr>\n",
       "    <tr>\n",
       "      <th>5</th>\n",
       "      <td>Business Analyst</td>\n",
       "      <td>1887</td>\n",
       "    </tr>\n",
       "    <tr>\n",
       "      <th>6</th>\n",
       "      <td>Software Engineer</td>\n",
       "      <td>1795</td>\n",
       "    </tr>\n",
       "    <tr>\n",
       "      <th>7</th>\n",
       "      <td>Senior Data Analyst</td>\n",
       "      <td>1083</td>\n",
       "    </tr>\n",
       "    <tr>\n",
       "      <th>8</th>\n",
       "      <td>Machine Learning Engineer</td>\n",
       "      <td>671</td>\n",
       "    </tr>\n",
       "    <tr>\n",
       "      <th>9</th>\n",
       "      <td>Cloud Engineer</td>\n",
       "      <td>351</td>\n",
       "    </tr>\n",
       "  </tbody>\n",
       "</table>\n",
       "</div>"
      ],
      "text/plain": [
       "             job_title_short  jobs_total\n",
       "0              Data Engineer       19062\n",
       "1             Data Scientist       13279\n",
       "2               Data Analyst        6121\n",
       "3       Senior Data Engineer        4353\n",
       "4      Senior Data Scientist        2486\n",
       "5           Business Analyst        1887\n",
       "6          Software Engineer        1795\n",
       "7        Senior Data Analyst        1083\n",
       "8  Machine Learning Engineer         671\n",
       "9             Cloud Engineer         351"
      ]
     },
     "execution_count": 16,
     "metadata": {},
     "output_type": "execute_result"
    }
   ],
   "source": [
    "df_job_title_count = df_IND['job_title_short'].value_counts().reset_index(name='jobs_total')\n",
    "\n",
    "df_job_title_count"
   ]
  },
  {
   "cell_type": "code",
   "execution_count": 17,
   "id": "bdb3e86c",
   "metadata": {},
   "outputs": [
    {
     "data": {
      "application/vnd.microsoft.datawrangler.viewer.v0+json": {
       "columns": [
        {
         "name": "index",
         "rawType": "int64",
         "type": "integer"
        },
        {
         "name": "job_skills",
         "rawType": "object",
         "type": "string"
        },
        {
         "name": "job_title_short",
         "rawType": "object",
         "type": "string"
        },
        {
         "name": "skill_count",
         "rawType": "int64",
         "type": "integer"
        },
        {
         "name": "jobs_total",
         "rawType": "int64",
         "type": "integer"
        },
        {
         "name": "skill_percent",
         "rawType": "float64",
         "type": "float"
        }
       ],
       "ref": "cf33779b-7e4b-4835-8145-ef8a58ee7120",
       "rows": [
        [
         "0",
         "sql",
         "Data Engineer",
         "12993",
         "19062",
         "68.16178785017311"
        ],
        [
         "1",
         "python",
         "Data Engineer",
         "11568",
         "19062",
         "60.68618193264086"
        ],
        [
         "2",
         "python",
         "Data Scientist",
         "9248",
         "13279",
         "69.64379847880112"
        ],
        [
         "3",
         "spark",
         "Data Engineer",
         "7157",
         "19062",
         "37.54590284335327"
        ],
        [
         "4",
         "aws",
         "Data Engineer",
         "6993",
         "19062",
         "36.68555240793201"
        ],
        [
         "5",
         "azure",
         "Data Engineer",
         "6819",
         "19062",
         "35.772741580107024"
        ],
        [
         "6",
         "sql",
         "Data Scientist",
         "6367",
         "13279",
         "47.94788764214173"
        ],
        [
         "7",
         "r",
         "Data Scientist",
         "4327",
         "13279",
         "32.585285036523835"
        ],
        [
         "8",
         "java",
         "Data Engineer",
         "4023",
         "19062",
         "21.10481586402266"
        ],
        [
         "9",
         "hadoop",
         "Data Engineer",
         "3999",
         "19062",
         "20.9789109222537"
        ],
        [
         "10",
         "scala",
         "Data Engineer",
         "3667",
         "19062",
         "19.23722589444969"
        ],
        [
         "11",
         "databricks",
         "Data Engineer",
         "3591",
         "19062",
         "18.8385269121813"
        ],
        [
         "12",
         "kafka",
         "Data Engineer",
         "3477",
         "19062",
         "18.240478438778723"
        ],
        [
         "13",
         "pyspark",
         "Data Engineer",
         "3380",
         "19062",
         "17.73161263246249"
        ],
        [
         "14",
         "snowflake",
         "Data Engineer",
         "3172",
         "19062",
         "16.6404364704648"
        ],
        [
         "15",
         "sql",
         "Data Analyst",
         "3159",
         "6121",
         "51.609214180689435"
        ],
        [
         "16",
         "sql",
         "Senior Data Engineer",
         "3143",
         "4353",
         "72.20307833677924"
        ],
        [
         "17",
         "airflow",
         "Data Engineer",
         "2990",
         "19062",
         "15.685657328716818"
        ],
        [
         "18",
         "python",
         "Senior Data Engineer",
         "2905",
         "4353",
         "66.73558465426143"
        ],
        [
         "19",
         "nosql",
         "Data Engineer",
         "2836",
         "19062",
         "14.877767285699298"
        ],
        [
         "20",
         "gcp",
         "Data Engineer",
         "2694",
         "19062",
         "14.132829713566258"
        ],
        [
         "21",
         "aws",
         "Data Scientist",
         "2580",
         "13279",
         "19.429173883575572"
        ],
        [
         "22",
         "redshift",
         "Data Engineer",
         "2492",
         "19062",
         "13.073129787010807"
        ],
        [
         "23",
         "tableau",
         "Data Scientist",
         "2426",
         "13279",
         "18.269448000602456"
        ],
        [
         "24",
         "spark",
         "Data Scientist",
         "2391",
         "13279",
         "18.005873936290385"
        ],
        [
         "25",
         "tensorflow",
         "Data Scientist",
         "2375",
         "13279",
         "17.885382935462008"
        ],
        [
         "26",
         "python",
         "Data Analyst",
         "2203",
         "6121",
         "35.99085116810979"
        ],
        [
         "27",
         "excel",
         "Data Analyst",
         "2117",
         "6121",
         "34.58585198496978"
        ],
        [
         "28",
         "mongodb",
         "Data Engineer",
         "2112",
         "19062",
         "11.07963487566887"
        ],
        [
         "29",
         "azure",
         "Data Scientist",
         "2107",
         "13279",
         "15.867158671586715"
        ],
        [
         "30",
         "tableau",
         "Data Engineer",
         "2029",
         "19062",
         "10.644213618717869"
        ],
        [
         "31",
         "spark",
         "Senior Data Engineer",
         "1993",
         "4353",
         "45.78451642545371"
        ],
        [
         "32",
         "aws",
         "Senior Data Engineer",
         "1987",
         "4353",
         "45.646680450264185"
        ],
        [
         "33",
         "git",
         "Data Engineer",
         "1897",
         "19062",
         "9.951736438988563"
        ],
        [
         "34",
         "pytorch",
         "Data Scientist",
         "1817",
         "13279",
         "13.683259281572408"
        ],
        [
         "35",
         "hadoop",
         "Data Scientist",
         "1778",
         "13279",
         "13.389562467053242"
        ],
        [
         "36",
         "python",
         "Senior Data Scientist",
         "1776",
         "2486",
         "71.44006436041835"
        ],
        [
         "37",
         "power bi",
         "Data Engineer",
         "1741",
         "19062",
         "9.133354317490294"
        ],
        [
         "38",
         "sas",
         "Data Scientist",
         "1670",
         "13279",
         "12.576248211461708"
        ],
        [
         "39",
         "tableau",
         "Data Analyst",
         "1667",
         "6121",
         "27.23411207319065"
        ],
        [
         "40",
         "azure",
         "Senior Data Engineer",
         "1625",
         "4353",
         "37.33057661382954"
        ],
        [
         "41",
         "sql server",
         "Data Engineer",
         "1623",
         "19062",
         "8.51432168712622"
        ],
        [
         "42",
         "oracle",
         "Data Engineer",
         "1560",
         "19062",
         "8.183821214982688"
        ],
        [
         "43",
         "pandas",
         "Data Scientist",
         "1506",
         "13279",
         "11.341215452970856"
        ],
        [
         "44",
         "excel",
         "Data Scientist",
         "1459",
         "13279",
         "10.987273138037503"
        ],
        [
         "45",
         "flow",
         "Data Engineer",
         "1401",
         "19062",
         "7.349700975763299"
        ],
        [
         "46",
         "shell",
         "Data Engineer",
         "1371",
         "19062",
         "7.192319798552093"
        ],
        [
         "47",
         "numpy",
         "Data Scientist",
         "1348",
         "13279",
         "10.151366819790647"
        ],
        [
         "48",
         "java",
         "Data Scientist",
         "1345",
         "13279",
         "10.128774757135327"
        ],
        [
         "49",
         "kubernetes",
         "Data Engineer",
         "1306",
         "19062",
         "6.851327247927815"
        ]
       ],
       "shape": {
        "columns": 5,
        "rows": 1689
       }
      },
      "text/html": [
       "<div>\n",
       "<style scoped>\n",
       "    .dataframe tbody tr th:only-of-type {\n",
       "        vertical-align: middle;\n",
       "    }\n",
       "\n",
       "    .dataframe tbody tr th {\n",
       "        vertical-align: top;\n",
       "    }\n",
       "\n",
       "    .dataframe thead th {\n",
       "        text-align: right;\n",
       "    }\n",
       "</style>\n",
       "<table border=\"1\" class=\"dataframe\">\n",
       "  <thead>\n",
       "    <tr style=\"text-align: right;\">\n",
       "      <th></th>\n",
       "      <th>job_skills</th>\n",
       "      <th>job_title_short</th>\n",
       "      <th>skill_count</th>\n",
       "      <th>jobs_total</th>\n",
       "      <th>skill_percent</th>\n",
       "    </tr>\n",
       "  </thead>\n",
       "  <tbody>\n",
       "    <tr>\n",
       "      <th>0</th>\n",
       "      <td>sql</td>\n",
       "      <td>Data Engineer</td>\n",
       "      <td>12993</td>\n",
       "      <td>19062</td>\n",
       "      <td>68.161788</td>\n",
       "    </tr>\n",
       "    <tr>\n",
       "      <th>1</th>\n",
       "      <td>python</td>\n",
       "      <td>Data Engineer</td>\n",
       "      <td>11568</td>\n",
       "      <td>19062</td>\n",
       "      <td>60.686182</td>\n",
       "    </tr>\n",
       "    <tr>\n",
       "      <th>2</th>\n",
       "      <td>python</td>\n",
       "      <td>Data Scientist</td>\n",
       "      <td>9248</td>\n",
       "      <td>13279</td>\n",
       "      <td>69.643798</td>\n",
       "    </tr>\n",
       "    <tr>\n",
       "      <th>3</th>\n",
       "      <td>spark</td>\n",
       "      <td>Data Engineer</td>\n",
       "      <td>7157</td>\n",
       "      <td>19062</td>\n",
       "      <td>37.545903</td>\n",
       "    </tr>\n",
       "    <tr>\n",
       "      <th>4</th>\n",
       "      <td>aws</td>\n",
       "      <td>Data Engineer</td>\n",
       "      <td>6993</td>\n",
       "      <td>19062</td>\n",
       "      <td>36.685552</td>\n",
       "    </tr>\n",
       "    <tr>\n",
       "      <th>...</th>\n",
       "      <td>...</td>\n",
       "      <td>...</td>\n",
       "      <td>...</td>\n",
       "      <td>...</td>\n",
       "      <td>...</td>\n",
       "    </tr>\n",
       "    <tr>\n",
       "      <th>1684</th>\n",
       "      <td>esquisse</td>\n",
       "      <td>Data Scientist</td>\n",
       "      <td>1</td>\n",
       "      <td>13279</td>\n",
       "      <td>0.007531</td>\n",
       "    </tr>\n",
       "    <tr>\n",
       "      <th>1685</th>\n",
       "      <td>node.js</td>\n",
       "      <td>Senior Data Analyst</td>\n",
       "      <td>1</td>\n",
       "      <td>1083</td>\n",
       "      <td>0.092336</td>\n",
       "    </tr>\n",
       "    <tr>\n",
       "      <th>1686</th>\n",
       "      <td>matlab</td>\n",
       "      <td>Cloud Engineer</td>\n",
       "      <td>1</td>\n",
       "      <td>351</td>\n",
       "      <td>0.284900</td>\n",
       "    </tr>\n",
       "    <tr>\n",
       "      <th>1687</th>\n",
       "      <td>fastapi</td>\n",
       "      <td>Cloud Engineer</td>\n",
       "      <td>1</td>\n",
       "      <td>351</td>\n",
       "      <td>0.284900</td>\n",
       "    </tr>\n",
       "    <tr>\n",
       "      <th>1688</th>\n",
       "      <td>delphi</td>\n",
       "      <td>Data Engineer</td>\n",
       "      <td>1</td>\n",
       "      <td>19062</td>\n",
       "      <td>0.005246</td>\n",
       "    </tr>\n",
       "  </tbody>\n",
       "</table>\n",
       "<p>1689 rows × 5 columns</p>\n",
       "</div>"
      ],
      "text/plain": [
       "     job_skills      job_title_short  skill_count  jobs_total  skill_percent\n",
       "0           sql        Data Engineer        12993       19062      68.161788\n",
       "1        python        Data Engineer        11568       19062      60.686182\n",
       "2        python       Data Scientist         9248       13279      69.643798\n",
       "3         spark        Data Engineer         7157       19062      37.545903\n",
       "4           aws        Data Engineer         6993       19062      36.685552\n",
       "...         ...                  ...          ...         ...            ...\n",
       "1684   esquisse       Data Scientist            1       13279       0.007531\n",
       "1685    node.js  Senior Data Analyst            1        1083       0.092336\n",
       "1686     matlab       Cloud Engineer            1         351       0.284900\n",
       "1687    fastapi       Cloud Engineer            1         351       0.284900\n",
       "1688     delphi        Data Engineer            1       19062       0.005246\n",
       "\n",
       "[1689 rows x 5 columns]"
      ]
     },
     "execution_count": 17,
     "metadata": {},
     "output_type": "execute_result"
    }
   ],
   "source": [
    "df_skills_perc = pd.merge(df_skills_count, df_job_title_count, on='job_title_short', how='left')\n",
    "\n",
    "df_skills_perc['skill_percent'] = (df_skills_perc['skill_count'] / df_skills_perc['jobs_total']) * 100\n",
    "\n",
    "df_skills_perc"
   ]
  },
  {
   "cell_type": "code",
   "execution_count": 18,
   "id": "3b028daf",
   "metadata": {},
   "outputs": [
    {
     "data": {
      "image/png": "[encoded data removed]",
      "text/plain": [
       "<Figure size 640x480 with 3 Axes>"
      ]
     },
     "metadata": {},
     "output_type": "display_data"
    }
   ],
   "source": [
    "fig, ax = plt.subplots(len(job_titles), 1)\n",
    "\n",
    "\n",
    "for i, job_title in enumerate(job_titles):\n",
    "    df_plot = df_skills_perc[df_skills_perc['job_title_short'] == job_title].head(5)\n",
    "    sns.barplot(data=df_plot, x='skill_percent', y='job_skills', ax=ax[i], hue='skill_count', palette='dark:b_r')\n",
    "    ax[i].set_title(job_title)\n",
    "    ax[i].set_ylabel('')\n",
    "    ax[i].set_xlabel('')\n",
    "    ax[i].get_legend().remove()\n",
    "    ax[i].set_xlim(0, 78)\n",
    "    # remove the x-axis tick labels for better readability\n",
    "    if i != len(job_titles) - 1:\n",
    "        ax[i].set_xticks([])\n",
    "\n",
    "    # label the percentage on the bars\n",
    "    for n, v in enumerate(df_plot['skill_percent']):\n",
    "        ax[i].text(v + 1, n, f'{v:.0f}%', va='center')\n",
    "\n",
    "fig.suptitle('Likelihood of Skills Requested in India Job Postings', fontsize=15)\n",
    "fig.tight_layout(h_pad=.8)\n",
    "plt.show()"
   ]
  }
 ],
 "metadata": {
  "kernelspec": {
   "display_name": "python_course",
   "language": "python",
   "name": "python3"
  },
  "language_info": {
   "codemirror_mode": {
    "name": "ipython",
    "version": 3
   },
   "file_extension": ".py",
   "mimetype": "text/x-python",
   "name": "python",
   "nbconvert_exporter": "python",
   "pygments_lexer": "ipython3",
   "version": "3.11.13"
  }
 },
 "nbformat": 4,
 "nbformat_minor": 5
}
